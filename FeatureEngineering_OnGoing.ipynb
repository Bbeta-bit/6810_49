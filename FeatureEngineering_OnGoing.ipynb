{
  "nbformat": 4,
  "nbformat_minor": 0,
  "metadata": {
    "colab": {
      "provenance": [],
      "collapsed_sections": [
        "fRkE_O81OLgm",
        "Wb99HQjGOhui",
        "eRmZfWtQQcFS",
        "D1XU91W3Tafj",
        "8XnwqxV-emiL",
        "rhg3nTZTXNAQ",
        "yaad3MEtXSVR",
        "4vyXoMWiYhqu",
        "48Pr5TWAeLx1"
      ],
      "mount_file_id": "1M4wqKVosm_DPJk-7BYcMisffuatxcT8X",
      "authorship_tag": "ABX9TyOXpKdq12NMNGGW/kYLjDfX",
      "include_colab_link": true
    },
    "kernelspec": {
      "name": "python3",
      "display_name": "Python 3"
    },
    "language_info": {
      "name": "python"
    }
  },
  "cells": [
    {
      "cell_type": "markdown",
      "metadata": {
        "id": "view-in-github",
        "colab_type": "text"
      },
      "source": [
        "<a href=\"https://colab.research.google.com/github/Bbeta-bit/6810_49/blob/main/FeatureEngineering_OnGoing.ipynb\" target=\"_parent\"><img src=\"https://colab.research.google.com/assets/colab-badge.svg\" alt=\"Open In Colab\"/></a>"
      ]
    },
    {
      "cell_type": "code",
      "execution_count": 1,
      "metadata": {
        "id": "dWY1kEMk-ExL",
        "colab": {
          "base_uri": "https://localhost:8080/",
          "height": 216
        },
        "outputId": "85365209-d658-4367-b969-73c0b75f908a"
      },
      "outputs": [
        {
          "output_type": "error",
          "ename": "NameError",
          "evalue": "name 'LinearRegression' is not defined",
          "traceback": [
            "\u001b[0;31m---------------------------------------------------------------------------\u001b[0m",
            "\u001b[0;31mNameError\u001b[0m                                 Traceback (most recent call last)",
            "\u001b[0;32m<ipython-input-1-1f1d48102597>\u001b[0m in \u001b[0;36m<cell line: 0>\u001b[0;34m()\u001b[0m\n\u001b[1;32m      2\u001b[0m \u001b[0;31m#linear\u001b[0m\u001b[0;34m\u001b[0m\u001b[0;34m\u001b[0m\u001b[0m\n\u001b[1;32m      3\u001b[0m \u001b[0;31m# Train linear regression model\u001b[0m\u001b[0;34m\u001b[0m\u001b[0;34m\u001b[0m\u001b[0m\n\u001b[0;32m----> 4\u001b[0;31m \u001b[0mols\u001b[0m \u001b[0;34m=\u001b[0m \u001b[0mLinearRegression\u001b[0m\u001b[0;34m(\u001b[0m\u001b[0;34m)\u001b[0m\u001b[0;34m.\u001b[0m\u001b[0mfit\u001b[0m\u001b[0;34m(\u001b[0m\u001b[0mX_train\u001b[0m\u001b[0;34m,\u001b[0m \u001b[0my_train\u001b[0m\u001b[0;34m)\u001b[0m\u001b[0;34m\u001b[0m\u001b[0;34m\u001b[0m\u001b[0m\n\u001b[0m\u001b[1;32m      5\u001b[0m \u001b[0;34m\u001b[0m\u001b[0m\n\u001b[1;32m      6\u001b[0m \u001b[0;31m# Make predictions and evaluate\u001b[0m\u001b[0;34m\u001b[0m\u001b[0;34m\u001b[0m\u001b[0m\n",
            "\u001b[0;31mNameError\u001b[0m: name 'LinearRegression' is not defined"
          ]
        }
      ],
      "source": [
        "# baseline model\n",
        "#linear\n",
        "# Train linear regression model\n",
        "ols = LinearRegression().fit(X_train, y_train)\n",
        "\n",
        "# Make predictions and evaluate\n",
        "ols_pred = ols.predict(X_valid)\n",
        "ols_rmse = np.sqrt(mean_squared_error(y_valid, ols_pred))\n",
        "ols_r2 = r2_score(y_valid, ols_pred)\n",
        "ols_mae = mean_absolute_error(y_valid, ols_pred)\n",
        "\n",
        "print(f\"\\nLinear Regression Performance:\")\n",
        "print(f\"RMSE: {ols_rmse:.2f}\")\n",
        "print(f\"R²: {ols_r2:.4f}\")\n",
        "print(f\"MAE: {ols_mae:.2f}\")"
      ]
    },
    {
      "cell_type": "code",
      "source": [
        "# package laoding\n",
        "import pandas as pd\n",
        "import numpy as np"
      ],
      "metadata": {
        "id": "-ghA7mHS-gmI"
      },
      "execution_count": 1,
      "outputs": []
    },
    {
      "cell_type": "code",
      "source": [
        "# dataset loading\n",
        "df_olist_customers_dataset = pd.read_csv('/content/drive/MyDrive/Qbus/6810/Group-assignment/olist_customers_dataset.csv')\n",
        "df_olist_orders_dataset = pd.read_csv('/content/drive/MyDrive/Qbus/6810/Group-assignment/olist_orders_dataset.csv')\n",
        "df_olist_order_payments_dataset = pd.read_csv('/content/drive/MyDrive/Qbus/6810/Group-assignment/olist_order_payments_dataset.csv')\n",
        "df_olist_order_reviews_dataset = pd.read_csv('/content/drive/MyDrive/Qbus/6810/Group-assignment/olist_order_reviews_dataset.csv')\n",
        "df_olist_products_dataset = pd.read_csv('/content/drive/MyDrive/Qbus/6810/Group-assignment/olist_products_dataset.csv')\n",
        "df_olist_sellers_dataset = pd.read_csv('/content/drive/MyDrive/Qbus/6810/Group-assignment/olist_sellers_dataset.csv')\n",
        "df_product_category_name_translation = pd.read_csv('/content/drive/MyDrive/Qbus/6810/Group-assignment/product_category_name_translation.csv')\n",
        "df_olist_geolocation_dataset = pd.read_csv('/content/drive/MyDrive/Qbus/6810/Group-assignment/olist_geolocation_dataset.csv')\n",
        "df_olist_order_items_dataset = pd.read_csv('/content/drive/MyDrive/Qbus/6810/Group-assignment/olist_order_items_dataset.csv')"
      ],
      "metadata": {
        "id": "90CPRS2A-gFz"
      },
      "execution_count": 2,
      "outputs": []
    },
    {
      "cell_type": "markdown",
      "source": [
        "#1 Data preperation"
      ],
      "metadata": {
        "id": "MlIK5H3_OCh7"
      }
    },
    {
      "cell_type": "markdown",
      "source": [
        "##1.1 orders dataset"
      ],
      "metadata": {
        "id": "fRkE_O81OLgm"
      }
    },
    {
      "cell_type": "markdown",
      "source": [
        "###1.1.1 Handling missing value\n",
        "using simple imputation replacing the missing value by the average"
      ],
      "metadata": {
        "id": "R8gKTKV2OQom"
      }
    },
    {
      "cell_type": "code",
      "source": [
        "missing_values = df_olist_orders_dataset.isnull().sum()\n",
        "print(missing_values)"
      ],
      "metadata": {
        "colab": {
          "base_uri": "https://localhost:8080/"
        },
        "id": "gmbSyxZTMzW_",
        "outputId": "7ede61fd-fc07-440d-c8ff-2cea91a36e03"
      },
      "execution_count": 3,
      "outputs": [
        {
          "output_type": "stream",
          "name": "stdout",
          "text": [
            "order_id                            0\n",
            "customer_id                         0\n",
            "order_status                        0\n",
            "order_purchase_timestamp            0\n",
            "order_approved_at                 160\n",
            "order_delivered_carrier_date     1783\n",
            "order_delivered_customer_date    2965\n",
            "order_estimated_delivery_date       0\n",
            "dtype: int64\n"
          ]
        }
      ]
    },
    {
      "cell_type": "code",
      "source": [
        "# converting_datetime\n",
        "df_olist_orders_dataset['order_purchase_timestamp'] = pd.to_datetime(df_olist_orders_dataset['order_purchase_timestamp'])\n",
        "df_olist_orders_dataset['order_approved_at'] = pd.to_datetime(df_olist_orders_dataset['order_approved_at'])\n",
        "df_olist_orders_dataset['order_delivered_carrier_date'] = pd.to_datetime(df_olist_orders_dataset['order_delivered_carrier_date'])\n",
        "df_olist_orders_dataset['order_delivered_customer_date'] = pd.to_datetime(df_olist_orders_dataset['order_delivered_customer_date'])\n",
        "df_olist_orders_dataset['order_estimated_delivery_date'] = pd.to_datetime(df_olist_orders_dataset['order_estimated_delivery_date'])\n",
        "\n",
        "df_olist_orders_dataset['order_approved_at'].fillna(df_olist_orders_dataset['order_approved_at'].mean(), inplace=True)\n",
        "df_olist_orders_dataset['order_delivered_carrier_date'].fillna(df_olist_orders_dataset['order_delivered_carrier_date'].mean(), inplace=True)\n",
        "df_olist_orders_dataset['order_delivered_customer_date'].fillna(df_olist_orders_dataset['order_delivered_customer_date'].mean(), inplace=True)\n",
        "\n",
        "print(df_olist_orders_dataset.head())"
      ],
      "metadata": {
        "colab": {
          "base_uri": "https://localhost:8080/"
        },
        "collapsed": true,
        "id": "RSiddzwfPDfP",
        "outputId": "ffe1c78f-374f-4015-a73f-ddf88d9cd6f5"
      },
      "execution_count": 4,
      "outputs": [
        {
          "output_type": "stream",
          "name": "stdout",
          "text": [
            "                           order_id                       customer_id  \\\n",
            "0  e481f51cbdc54678b7cc49136f2d6af7  9ef432eb6251297304e76186b10a928d   \n",
            "1  53cdb2fc8bc7dce0b6741e2150273451  b0830fb4747a6c6d20dea0b8c802d7ef   \n",
            "2  47770eb9100c2d0c44946d9cf07ec65d  41ce2a54c0b03bf3443c3d931a367089   \n",
            "3  949d5b44dbf5de918fe9c16f97b45f8a  f88197465ea7920adcdbec7375364d82   \n",
            "4  ad21c59c0840e6cb83a9ceb5573f8159  8ab97904e6daea8866dbdbc4fb7aad2c   \n",
            "\n",
            "  order_status order_purchase_timestamp   order_approved_at  \\\n",
            "0    delivered      2017-10-02 10:56:33 2017-10-02 11:07:15   \n",
            "1    delivered      2018-07-24 20:41:37 2018-07-26 03:24:27   \n",
            "2    delivered      2018-08-08 08:38:49 2018-08-08 08:55:23   \n",
            "3    delivered      2017-11-18 19:28:06 2017-11-18 19:45:59   \n",
            "4    delivered      2018-02-13 21:18:39 2018-02-13 22:20:29   \n",
            "\n",
            "  order_delivered_carrier_date order_delivered_customer_date  \\\n",
            "0          2017-10-04 19:55:00           2017-10-10 21:25:13   \n",
            "1          2018-07-26 14:31:00           2018-08-07 15:27:45   \n",
            "2          2018-08-08 13:50:00           2018-08-17 18:06:29   \n",
            "3          2017-11-22 13:39:59           2017-12-02 00:28:42   \n",
            "4          2018-02-14 19:46:34           2018-02-16 18:17:02   \n",
            "\n",
            "  order_estimated_delivery_date  \n",
            "0                    2017-10-18  \n",
            "1                    2018-08-13  \n",
            "2                    2018-09-04  \n",
            "3                    2017-12-15  \n",
            "4                    2018-02-26  \n"
          ]
        },
        {
          "output_type": "stream",
          "name": "stderr",
          "text": [
            "<ipython-input-4-7573e068ea8b>:8: FutureWarning: A value is trying to be set on a copy of a DataFrame or Series through chained assignment using an inplace method.\n",
            "The behavior will change in pandas 3.0. This inplace method will never work because the intermediate object on which we are setting values always behaves as a copy.\n",
            "\n",
            "For example, when doing 'df[col].method(value, inplace=True)', try using 'df.method({col: value}, inplace=True)' or df[col] = df[col].method(value) instead, to perform the operation inplace on the original object.\n",
            "\n",
            "\n",
            "  df_olist_orders_dataset['order_approved_at'].fillna(df_olist_orders_dataset['order_approved_at'].mean(), inplace=True)\n",
            "<ipython-input-4-7573e068ea8b>:9: FutureWarning: A value is trying to be set on a copy of a DataFrame or Series through chained assignment using an inplace method.\n",
            "The behavior will change in pandas 3.0. This inplace method will never work because the intermediate object on which we are setting values always behaves as a copy.\n",
            "\n",
            "For example, when doing 'df[col].method(value, inplace=True)', try using 'df.method({col: value}, inplace=True)' or df[col] = df[col].method(value) instead, to perform the operation inplace on the original object.\n",
            "\n",
            "\n",
            "  df_olist_orders_dataset['order_delivered_carrier_date'].fillna(df_olist_orders_dataset['order_delivered_carrier_date'].mean(), inplace=True)\n",
            "<ipython-input-4-7573e068ea8b>:10: FutureWarning: A value is trying to be set on a copy of a DataFrame or Series through chained assignment using an inplace method.\n",
            "The behavior will change in pandas 3.0. This inplace method will never work because the intermediate object on which we are setting values always behaves as a copy.\n",
            "\n",
            "For example, when doing 'df[col].method(value, inplace=True)', try using 'df.method({col: value}, inplace=True)' or df[col] = df[col].method(value) instead, to perform the operation inplace on the original object.\n",
            "\n",
            "\n",
            "  df_olist_orders_dataset['order_delivered_customer_date'].fillna(df_olist_orders_dataset['order_delivered_customer_date'].mean(), inplace=True)\n"
          ]
        }
      ]
    },
    {
      "cell_type": "code",
      "source": [
        "missing_values = df_olist_orders_dataset.isnull().sum()\n",
        "print(missing_values)"
      ],
      "metadata": {
        "colab": {
          "base_uri": "https://localhost:8080/"
        },
        "id": "fsvv7FkIPb0h",
        "outputId": "a76e47bd-d09a-4cf4-813e-c3ecde35a94f"
      },
      "execution_count": 6,
      "outputs": [
        {
          "output_type": "stream",
          "name": "stdout",
          "text": [
            "order_id                         0\n",
            "customer_id                      0\n",
            "order_status                     0\n",
            "order_purchase_timestamp         0\n",
            "order_approved_at                0\n",
            "order_delivered_carrier_date     0\n",
            "order_delivered_customer_date    0\n",
            "order_estimated_delivery_date    0\n",
            "dtype: int64\n"
          ]
        }
      ]
    },
    {
      "cell_type": "markdown",
      "source": [
        "###1.1.2 data converting\n",
        "converting string to datetim"
      ],
      "metadata": {
        "id": "Wb99HQjGOhui"
      }
    },
    {
      "cell_type": "code",
      "source": [
        "# create a column of shipping time\n",
        "df_olist_orders_dataset['shiping_time']=df_olist_orders_dataset['order_delivered_customer_date']-df_olist_orders_dataset['order_approved_at']\n",
        "\n",
        "\n",
        "#categorical data convert to dummy variable\n",
        "# no need for ['delever status']\n",
        "\n",
        "print(df_olist_orders_dataset.head())\n"
      ],
      "metadata": {
        "colab": {
          "base_uri": "https://localhost:8080/"
        },
        "collapsed": true,
        "id": "f7zPP8Ay-PS2",
        "outputId": "5381659f-cb6c-4d0f-d48f-b2b65095fbbf"
      },
      "execution_count": 7,
      "outputs": [
        {
          "output_type": "stream",
          "name": "stdout",
          "text": [
            "                           order_id                       customer_id  \\\n",
            "0  e481f51cbdc54678b7cc49136f2d6af7  9ef432eb6251297304e76186b10a928d   \n",
            "1  53cdb2fc8bc7dce0b6741e2150273451  b0830fb4747a6c6d20dea0b8c802d7ef   \n",
            "2  47770eb9100c2d0c44946d9cf07ec65d  41ce2a54c0b03bf3443c3d931a367089   \n",
            "3  949d5b44dbf5de918fe9c16f97b45f8a  f88197465ea7920adcdbec7375364d82   \n",
            "4  ad21c59c0840e6cb83a9ceb5573f8159  8ab97904e6daea8866dbdbc4fb7aad2c   \n",
            "\n",
            "  order_status order_purchase_timestamp   order_approved_at  \\\n",
            "0    delivered      2017-10-02 10:56:33 2017-10-02 11:07:15   \n",
            "1    delivered      2018-07-24 20:41:37 2018-07-26 03:24:27   \n",
            "2    delivered      2018-08-08 08:38:49 2018-08-08 08:55:23   \n",
            "3    delivered      2017-11-18 19:28:06 2017-11-18 19:45:59   \n",
            "4    delivered      2018-02-13 21:18:39 2018-02-13 22:20:29   \n",
            "\n",
            "  order_delivered_carrier_date order_delivered_customer_date  \\\n",
            "0          2017-10-04 19:55:00           2017-10-10 21:25:13   \n",
            "1          2018-07-26 14:31:00           2018-08-07 15:27:45   \n",
            "2          2018-08-08 13:50:00           2018-08-17 18:06:29   \n",
            "3          2017-11-22 13:39:59           2017-12-02 00:28:42   \n",
            "4          2018-02-14 19:46:34           2018-02-16 18:17:02   \n",
            "\n",
            "  order_estimated_delivery_date     shiping_time  \n",
            "0                    2017-10-18  8 days 10:17:58  \n",
            "1                    2018-08-13 12 days 12:03:18  \n",
            "2                    2018-09-04  9 days 09:11:06  \n",
            "3                    2017-12-15 13 days 04:42:43  \n",
            "4                    2018-02-26  2 days 19:56:33  \n"
          ]
        }
      ]
    },
    {
      "cell_type": "markdown",
      "source": [
        "##1.2 df_customers dataset"
      ],
      "metadata": {
        "id": "eRmZfWtQQcFS"
      }
    },
    {
      "cell_type": "code",
      "source": [
        "missing_values = df_olist_customers_dataset.isnull().sum()\n",
        "print(missing_values)\n",
        "# no missing value"
      ],
      "metadata": {
        "colab": {
          "base_uri": "https://localhost:8080/"
        },
        "id": "lo1R7FTBQ5yx",
        "outputId": "22df42d1-449e-43e9-de83-cd3f2db87ad9"
      },
      "execution_count": 9,
      "outputs": [
        {
          "output_type": "stream",
          "name": "stdout",
          "text": [
            "customer_id                 0\n",
            "customer_unique_id          0\n",
            "customer_zip_code_prefix    0\n",
            "customer_city               0\n",
            "customer_state              0\n",
            "customer_state_Encoded      0\n",
            "dtype: int64\n"
          ]
        }
      ]
    },
    {
      "cell_type": "code",
      "source": [
        "from sklearn.preprocessing import LabelEncoder\n",
        "\n",
        "# 27 states;\n",
        "# Applying Label Encoding to 'customer_city' and convert categorical variable to dummy variable\n",
        "encoder = LabelEncoder()\n",
        "df_olist_customers_dataset['customer_state_Encoded'] = encoder.fit_transform(df_olist_customers_dataset['customer_state'])\n",
        "print(df_olist_customers_dataset.head(20))\n"
      ],
      "metadata": {
        "colab": {
          "base_uri": "https://localhost:8080/"
        },
        "collapsed": true,
        "id": "QXGRK3lwQ8qO",
        "outputId": "5cb09616-72ed-4dcb-963e-705cc892bf11"
      },
      "execution_count": 8,
      "outputs": [
        {
          "output_type": "stream",
          "name": "stdout",
          "text": [
            "                         customer_id                customer_unique_id  \\\n",
            "0   06b8999e2fba1a1fbc88172c00ba8bc7  861eff4711a542e4b93843c6dd7febb0   \n",
            "1   18955e83d337fd6b2def6b18a428ac77  290c77bc529b7ac935b93aa66c333dc3   \n",
            "2   4e7b3e00288586ebd08712fdd0374a03  060e732b5b29e8181a18229c7b0b2b5e   \n",
            "3   b2b6027bc5c5109e529d4dc6358b12c3  259dac757896d24d7702b9acbbff3f3c   \n",
            "4   4f2d8ab171c80ec8364f7c12e35b23ad  345ecd01c38d18a9036ed96c73b8d066   \n",
            "5   879864dab9bc3047522c92c82e1212b8  4c93744516667ad3b8f1fb645a3116a4   \n",
            "6   fd826e7cf63160e536e0908c76c3f441  addec96d2e059c80c30fe6871d30d177   \n",
            "7   5e274e7a0c3809e14aba7ad5aae0d407  57b2a98a409812fe9618067b6b8ebe4f   \n",
            "8   5adf08e34b2e993982a47070956c5c65  1175e95fb47ddff9de6b2b06188f7e0d   \n",
            "9   4b7139f34592b3a31687243a302fa75b  9afe194fb833f79e300e37e580171f22   \n",
            "10  9fb35e4ed6f0a14a4977cd9aea4042bb  2a7745e1ed516b289ed9b29c7d0539a5   \n",
            "11  5aa9e4fdd4dfd20959cad2d772509598  2a46fb94aef5cbeeb850418118cee090   \n",
            "12  b2d1536598b73a9abd18e0d75d92f0a3  918dc87cd72cd9f6ed4bd442ed785235   \n",
            "13  eabebad39a88bb6f5b52376faec28612  295c05e81917928d76245e842748184d   \n",
            "14  1f1c7bf1c9b041b292af6c1c4470b753  3151a81801c8386361b62277d7fa5ecf   \n",
            "15  206f3129c0e4d7d0b9550426023f0a08  21f748a16f4e1688a9014eb3ee6fa325   \n",
            "16  a7c125a0a07b75146167b7f04a7f8e98  5c2991dbd08bbf3cf410713c4de5a0b5   \n",
            "17  c5c61596a3b6bd0cee5766992c48a9a1  b6e99561fe6f34a55b0b7da92f8ed775   \n",
            "18  9b8ce803689b3562defaad4613ef426f  7f3a72e8f988c6e735ba118d54f47458   \n",
            "19  49d0ea0986edde72da777f15456a0ee0  3e6fd6b2f0d499456a6a6820a40f2d79   \n",
            "\n",
            "    customer_zip_code_prefix          customer_city customer_state  \\\n",
            "0                      14409                 franca             SP   \n",
            "1                       9790  sao bernardo do campo             SP   \n",
            "2                       1151              sao paulo             SP   \n",
            "3                       8775        mogi das cruzes             SP   \n",
            "4                      13056               campinas             SP   \n",
            "5                      89254         jaragua do sul             SC   \n",
            "6                       4534              sao paulo             SP   \n",
            "7                      35182                timoteo             MG   \n",
            "8                      81560               curitiba             PR   \n",
            "9                      30575         belo horizonte             MG   \n",
            "10                     39400          montes claros             MG   \n",
            "11                     20231         rio de janeiro             RJ   \n",
            "12                     18682       lencois paulista             SP   \n",
            "13                      5704              sao paulo             SP   \n",
            "14                     95110          caxias do sul             RS   \n",
            "15                     13412             piracicaba             SP   \n",
            "16                     22750         rio de janeiro             RJ   \n",
            "17                      7124              guarulhos             SP   \n",
            "18                      5416              sao paulo             SP   \n",
            "19                     68485                 pacaja             PA   \n",
            "\n",
            "    customer_state_Encoded  \n",
            "0                       25  \n",
            "1                       25  \n",
            "2                       25  \n",
            "3                       25  \n",
            "4                       25  \n",
            "5                       23  \n",
            "6                       25  \n",
            "7                       10  \n",
            "8                       17  \n",
            "9                       10  \n",
            "10                      10  \n",
            "11                      18  \n",
            "12                      25  \n",
            "13                      25  \n",
            "14                      22  \n",
            "15                      25  \n",
            "16                      18  \n",
            "17                      25  \n",
            "18                      25  \n",
            "19                      13  \n"
          ]
        }
      ]
    },
    {
      "cell_type": "markdown",
      "source": [
        "##1.3 df_payments"
      ],
      "metadata": {
        "id": "D1XU91W3Tafj"
      }
    },
    {
      "cell_type": "code",
      "source": [
        "missing_values = df_olist_order_payments_dataset.isnull().sum()\n",
        "print(missing_values)\n",
        "# no missing value"
      ],
      "metadata": {
        "colab": {
          "base_uri": "https://localhost:8080/"
        },
        "id": "no18heDmR2Pa",
        "outputId": "1c05a7b6-b155-4489-aa4e-7fdcee0318da"
      },
      "execution_count": 10,
      "outputs": [
        {
          "output_type": "stream",
          "name": "stdout",
          "text": [
            "order_id                0\n",
            "payment_sequential      0\n",
            "payment_type            0\n",
            "payment_installments    0\n",
            "payment_value           0\n",
            "dtype: int64\n"
          ]
        }
      ]
    },
    {
      "cell_type": "code",
      "source": [
        "# purchasing frenquency = largest 'payment_sequential'\n",
        "# payment_installments tell smaller amounts of each payment\n",
        "\n",
        "# convert 'payment_type' to dummy\n",
        "encoder = LabelEncoder()\n",
        "df_olist_order_payments_dataset['payment_type'] = encoder.fit_transform(df_olist_order_payments_dataset['payment_type'])\n",
        "print(df_olist_order_payments_dataset.head())\n",
        "#labels: 1:credit_card; 0:boleto; 4:voucher; 2:debit_card; 3: not_defined\n"
      ],
      "metadata": {
        "colab": {
          "base_uri": "https://localhost:8080/"
        },
        "collapsed": true,
        "id": "WNvNa8cyTova",
        "outputId": "de55e3af-e108-472b-9e21-70b334f60f9c"
      },
      "execution_count": 11,
      "outputs": [
        {
          "output_type": "stream",
          "name": "stdout",
          "text": [
            "                           order_id  payment_sequential  payment_type  \\\n",
            "0  b81ef226f3fe1789b1e8b2acac839d17                   1             1   \n",
            "1  a9810da82917af2d9aefd1278f1dcfa0                   1             1   \n",
            "2  25e8ea4e93396b6fa0d3dd708e76c1bd                   1             1   \n",
            "3  ba78997921bbcdc1373bb41e913ab953                   1             1   \n",
            "4  42fdf880ba16b47b59251dd489d4441a                   1             1   \n",
            "\n",
            "   payment_installments  payment_value  \n",
            "0                     8          99.33  \n",
            "1                     1          24.39  \n",
            "2                     1          65.71  \n",
            "3                     8         107.78  \n",
            "4                     2         128.45  \n"
          ]
        }
      ]
    },
    {
      "cell_type": "code",
      "source": [],
      "metadata": {
        "id": "4eb4HVvVVV_E"
      },
      "execution_count": null,
      "outputs": []
    },
    {
      "cell_type": "markdown",
      "source": [
        "##1.4 df_olist_order_reviews_dataset"
      ],
      "metadata": {
        "id": "8XnwqxV-emiL"
      }
    },
    {
      "cell_type": "code",
      "source": [
        "# datetime Converting\n",
        "df_olist_order_reviews_dataset['review_creation_date']= pd.to_datetime(df_olist_order_reviews_dataset['review_creation_date'])\n",
        "df_olist_order_reviews_dataset['review_answer_timestamp'] = pd.to_datetime(df_olist_order_reviews_dataset['review_answer_timestamp'])\n",
        "\n",
        "# creating a useful column\n",
        "df_olist_order_reviews_dataset['review_answer_time'] = df_olist_order_reviews_dataset['review_answer_timestamp'] - df_olist_order_reviews_dataset['review_creation_date']\n"
      ],
      "metadata": {
        "id": "PMAfMenjfFHq"
      },
      "execution_count": 67,
      "outputs": []
    },
    {
      "cell_type": "code",
      "source": [
        "missing_values = df_olist_order_reviews_dataset.isnull().sum()\n",
        "print(missing_values)"
      ],
      "metadata": {
        "colab": {
          "base_uri": "https://localhost:8080/"
        },
        "id": "EFCHWbk0frYR",
        "outputId": "9ce91ff7-1573-492f-c0b5-4a57670bf5c3"
      },
      "execution_count": 68,
      "outputs": [
        {
          "output_type": "stream",
          "name": "stdout",
          "text": [
            "customer_id                           0\n",
            "order_id                              0\n",
            "review_score                          0\n",
            "review_creation_date                  0\n",
            "review_answer_timestamp               0\n",
            "review_comment_title_missing          0\n",
            "review_comment_title_not_missing      0\n",
            "review_comment_message_missing        0\n",
            "review_comment_message_not_missing    0\n",
            "review_answer_time                    0\n",
            "dtype: int64\n"
          ]
        }
      ]
    },
    {
      "cell_type": "code",
      "source": [
        "# using dummy variable to replace missing comment-value, 1:missing; 0: not missing\n",
        "#idea: comment with a title may affect CLV; Comment with a title might affect as well\n",
        "\n",
        "#1.review_comment_title\n",
        "# Step 1: Create Dummy Variables for Missing Values\n",
        "df_olist_order_reviews_dataset['review_comment_title_missing'] = df_olist_order_reviews_dataset['review_comment_title'].isnull().astype(int)\n",
        "\n",
        "# Step 2: Create Dummy Variables for Not Missing Values\n",
        "df_olist_order_reviews_dataset['review_comment_title_not_missing'] = (~df_olist_order_reviews_dataset['review_comment_title'].isnull()).astype(int)\n",
        "\n",
        "# Step 3: Displaying the Updated DataFrame\n",
        "#print(df_olist_order_reviews_dataset[['review_comment_title', 'review_comment_title_missing', 'review_comment_title_not_missing']])\n",
        "\n",
        "\n",
        "#2.review_comment_message\n",
        "df_olist_order_reviews_dataset['review_comment_message_missing'] = df_olist_order_reviews_dataset['review_comment_message'].isnull().astype(int)\n",
        "df_olist_order_reviews_dataset['review_comment_message_not_missing'] = (~df_olist_order_reviews_dataset['review_comment_message'].isnull()).astype(int)\n",
        "#print(df_olist_order_reviews_dataset[['review_comment_message', 'review_comment_message_missing', 'review_comment_message_not_missing']])\n",
        "\n",
        "# drop ['review_comment_title'], ['review_comment_message']\n",
        "\n",
        "#df_olist_order_reviews_dataset.drop(columns=['review_comment_title','review_comment_message'], inplace=True)\n",
        "print(df_olist_order_reviews_dataset.head())"
      ],
      "metadata": {
        "colab": {
          "base_uri": "https://localhost:8080/",
          "height": 561
        },
        "id": "r6vkvhgKfyep",
        "outputId": "a7c09315-70b9-40f7-f8f9-536ae225b312"
      },
      "execution_count": 70,
      "outputs": [
        {
          "output_type": "error",
          "ename": "KeyError",
          "evalue": "'review_comment_title'",
          "traceback": [
            "\u001b[0;31m---------------------------------------------------------------------------\u001b[0m",
            "\u001b[0;31mKeyError\u001b[0m                                  Traceback (most recent call last)",
            "\u001b[0;32m/usr/local/lib/python3.11/dist-packages/pandas/core/indexes/base.py\u001b[0m in \u001b[0;36mget_loc\u001b[0;34m(self, key)\u001b[0m\n\u001b[1;32m   3804\u001b[0m         \u001b[0;32mtry\u001b[0m\u001b[0;34m:\u001b[0m\u001b[0;34m\u001b[0m\u001b[0;34m\u001b[0m\u001b[0m\n\u001b[0;32m-> 3805\u001b[0;31m             \u001b[0;32mreturn\u001b[0m \u001b[0mself\u001b[0m\u001b[0;34m.\u001b[0m\u001b[0m_engine\u001b[0m\u001b[0;34m.\u001b[0m\u001b[0mget_loc\u001b[0m\u001b[0;34m(\u001b[0m\u001b[0mcasted_key\u001b[0m\u001b[0;34m)\u001b[0m\u001b[0;34m\u001b[0m\u001b[0;34m\u001b[0m\u001b[0m\n\u001b[0m\u001b[1;32m   3806\u001b[0m         \u001b[0;32mexcept\u001b[0m \u001b[0mKeyError\u001b[0m \u001b[0;32mas\u001b[0m \u001b[0merr\u001b[0m\u001b[0;34m:\u001b[0m\u001b[0;34m\u001b[0m\u001b[0;34m\u001b[0m\u001b[0m\n",
            "\u001b[0;32mindex.pyx\u001b[0m in \u001b[0;36mpandas._libs.index.IndexEngine.get_loc\u001b[0;34m()\u001b[0m\n",
            "\u001b[0;32mindex.pyx\u001b[0m in \u001b[0;36mpandas._libs.index.IndexEngine.get_loc\u001b[0;34m()\u001b[0m\n",
            "\u001b[0;32mpandas/_libs/hashtable_class_helper.pxi\u001b[0m in \u001b[0;36mpandas._libs.hashtable.PyObjectHashTable.get_item\u001b[0;34m()\u001b[0m\n",
            "\u001b[0;32mpandas/_libs/hashtable_class_helper.pxi\u001b[0m in \u001b[0;36mpandas._libs.hashtable.PyObjectHashTable.get_item\u001b[0;34m()\u001b[0m\n",
            "\u001b[0;31mKeyError\u001b[0m: 'review_comment_title'",
            "\nThe above exception was the direct cause of the following exception:\n",
            "\u001b[0;31mKeyError\u001b[0m                                  Traceback (most recent call last)",
            "\u001b[0;32m<ipython-input-70-8a3b82d50858>\u001b[0m in \u001b[0;36m<cell line: 0>\u001b[0;34m()\u001b[0m\n\u001b[1;32m      3\u001b[0m \u001b[0;31m#1.review_comment_title\u001b[0m\u001b[0;34m\u001b[0m\u001b[0;34m\u001b[0m\u001b[0m\n\u001b[1;32m      4\u001b[0m \u001b[0;31m# Step 1: Create Dummy Variables for Missing Values\u001b[0m\u001b[0;34m\u001b[0m\u001b[0;34m\u001b[0m\u001b[0m\n\u001b[0;32m----> 5\u001b[0;31m \u001b[0mdf_olist_order_reviews_dataset\u001b[0m\u001b[0;34m[\u001b[0m\u001b[0;34m'review_comment_title_missing'\u001b[0m\u001b[0;34m]\u001b[0m \u001b[0;34m=\u001b[0m \u001b[0mdf_olist_order_reviews_dataset\u001b[0m\u001b[0;34m[\u001b[0m\u001b[0;34m'review_comment_title'\u001b[0m\u001b[0;34m]\u001b[0m\u001b[0;34m.\u001b[0m\u001b[0misnull\u001b[0m\u001b[0;34m(\u001b[0m\u001b[0;34m)\u001b[0m\u001b[0;34m.\u001b[0m\u001b[0mastype\u001b[0m\u001b[0;34m(\u001b[0m\u001b[0mint\u001b[0m\u001b[0;34m)\u001b[0m\u001b[0;34m\u001b[0m\u001b[0;34m\u001b[0m\u001b[0m\n\u001b[0m\u001b[1;32m      6\u001b[0m \u001b[0;34m\u001b[0m\u001b[0m\n\u001b[1;32m      7\u001b[0m \u001b[0;31m# Step 2: Create Dummy Variables for Not Missing Values\u001b[0m\u001b[0;34m\u001b[0m\u001b[0;34m\u001b[0m\u001b[0m\n",
            "\u001b[0;32m/usr/local/lib/python3.11/dist-packages/pandas/core/frame.py\u001b[0m in \u001b[0;36m__getitem__\u001b[0;34m(self, key)\u001b[0m\n\u001b[1;32m   4100\u001b[0m             \u001b[0;32mif\u001b[0m \u001b[0mself\u001b[0m\u001b[0;34m.\u001b[0m\u001b[0mcolumns\u001b[0m\u001b[0;34m.\u001b[0m\u001b[0mnlevels\u001b[0m \u001b[0;34m>\u001b[0m \u001b[0;36m1\u001b[0m\u001b[0;34m:\u001b[0m\u001b[0;34m\u001b[0m\u001b[0;34m\u001b[0m\u001b[0m\n\u001b[1;32m   4101\u001b[0m                 \u001b[0;32mreturn\u001b[0m \u001b[0mself\u001b[0m\u001b[0;34m.\u001b[0m\u001b[0m_getitem_multilevel\u001b[0m\u001b[0;34m(\u001b[0m\u001b[0mkey\u001b[0m\u001b[0;34m)\u001b[0m\u001b[0;34m\u001b[0m\u001b[0;34m\u001b[0m\u001b[0m\n\u001b[0;32m-> 4102\u001b[0;31m             \u001b[0mindexer\u001b[0m \u001b[0;34m=\u001b[0m \u001b[0mself\u001b[0m\u001b[0;34m.\u001b[0m\u001b[0mcolumns\u001b[0m\u001b[0;34m.\u001b[0m\u001b[0mget_loc\u001b[0m\u001b[0;34m(\u001b[0m\u001b[0mkey\u001b[0m\u001b[0;34m)\u001b[0m\u001b[0;34m\u001b[0m\u001b[0;34m\u001b[0m\u001b[0m\n\u001b[0m\u001b[1;32m   4103\u001b[0m             \u001b[0;32mif\u001b[0m \u001b[0mis_integer\u001b[0m\u001b[0;34m(\u001b[0m\u001b[0mindexer\u001b[0m\u001b[0;34m)\u001b[0m\u001b[0;34m:\u001b[0m\u001b[0;34m\u001b[0m\u001b[0;34m\u001b[0m\u001b[0m\n\u001b[1;32m   4104\u001b[0m                 \u001b[0mindexer\u001b[0m \u001b[0;34m=\u001b[0m \u001b[0;34m[\u001b[0m\u001b[0mindexer\u001b[0m\u001b[0;34m]\u001b[0m\u001b[0;34m\u001b[0m\u001b[0;34m\u001b[0m\u001b[0m\n",
            "\u001b[0;32m/usr/local/lib/python3.11/dist-packages/pandas/core/indexes/base.py\u001b[0m in \u001b[0;36mget_loc\u001b[0;34m(self, key)\u001b[0m\n\u001b[1;32m   3810\u001b[0m             ):\n\u001b[1;32m   3811\u001b[0m                 \u001b[0;32mraise\u001b[0m \u001b[0mInvalidIndexError\u001b[0m\u001b[0;34m(\u001b[0m\u001b[0mkey\u001b[0m\u001b[0;34m)\u001b[0m\u001b[0;34m\u001b[0m\u001b[0;34m\u001b[0m\u001b[0m\n\u001b[0;32m-> 3812\u001b[0;31m             \u001b[0;32mraise\u001b[0m \u001b[0mKeyError\u001b[0m\u001b[0;34m(\u001b[0m\u001b[0mkey\u001b[0m\u001b[0;34m)\u001b[0m \u001b[0;32mfrom\u001b[0m \u001b[0merr\u001b[0m\u001b[0;34m\u001b[0m\u001b[0;34m\u001b[0m\u001b[0m\n\u001b[0m\u001b[1;32m   3813\u001b[0m         \u001b[0;32mexcept\u001b[0m \u001b[0mTypeError\u001b[0m\u001b[0;34m:\u001b[0m\u001b[0;34m\u001b[0m\u001b[0;34m\u001b[0m\u001b[0m\n\u001b[1;32m   3814\u001b[0m             \u001b[0;31m# If we have a listlike key, _check_indexing_error will raise\u001b[0m\u001b[0;34m\u001b[0m\u001b[0;34m\u001b[0m\u001b[0m\n",
            "\u001b[0;31mKeyError\u001b[0m: 'review_comment_title'"
          ]
        }
      ]
    },
    {
      "cell_type": "markdown",
      "source": [
        "# 2.Calculating CLV"
      ],
      "metadata": {
        "id": "kGI8j754XHs9"
      }
    },
    {
      "cell_type": "markdown",
      "source": [
        "##1.AOV"
      ],
      "metadata": {
        "id": "rhg3nTZTXNAQ"
      }
    },
    {
      "cell_type": "code",
      "source": [
        "#AOV\n",
        "df_olist_order_reviews_dataset = df_olist_order_reviews_dataset.rename(columns={'review_id': 'customer_id'})\n",
        "\n",
        "df_temp = pd.merge(df_olist_order_items_dataset, df_olist_order_payments_dataset, on='order_id')\n",
        "df_order_based = pd.merge(df_temp, df_olist_orders_dataset, on='order_id')\n",
        "\n",
        "df_order_medium = pd.merge(df_order_based, df_olist_products_dataset, on='product_id')\n",
        "df_order_final = pd.merge(df_order_medium, df_olist_sellers_dataset, on='seller_id')\n",
        "df_customer = pd.merge(df_olist_customers_dataset, df_olist_orders_dataset, on='customer_id')\n",
        "df_merged = pd.merge(df_order_final, df_customer, on='order_id')\n",
        "\n",
        "#df_merged.info()\n",
        "#print(df_merged.head(20))\n",
        "\n",
        "df_AOV = df_merged.groupby('customer_unique_id').agg(\n",
        "    total_order_amount=('price', 'sum'),\n",
        "    order_count=('order_id', 'count')\n",
        ").reset_index()\n",
        "\n",
        "df_AOV['AOV'] = df_AOV['total_order_amount'] / df_AOV['order_count']\n",
        "\n",
        "\n",
        "\n",
        "\n",
        "df_merged_with_AOV = pd.merge(df_merged, df_AOV, on='customer_unique_id')\n",
        "print(df_merged_with_AOV)\n",
        "\n"
      ],
      "metadata": {
        "id": "gBFMQbjOXGEt",
        "colab": {
          "base_uri": "https://localhost:8080/"
        },
        "collapsed": true,
        "outputId": "b7774be4-3447-4837-a08b-c4c6276a2102"
      },
      "execution_count": 13,
      "outputs": [
        {
          "output_type": "stream",
          "name": "stdout",
          "text": [
            "                                order_id  order_item_id  \\\n",
            "0       00010242fe8c5a6d1ba2dd792cb16214              1   \n",
            "1       00018f77f2f0320c557190d7a144bdd3              1   \n",
            "2       000229ec398224ef6ca0657da4fc703e              1   \n",
            "3       00024acbcdf0a6daa1e931b038114c75              1   \n",
            "4       00042b26cf59d7ce69dfabb4e55b4fd9              1   \n",
            "...                                  ...            ...   \n",
            "117596  fffc94f6ce00a00581880bf54a75a037              1   \n",
            "117597  fffcd46ef2263f404302a634eb57f7eb              1   \n",
            "117598  fffce4705a9662cd70adb13d4a31832d              1   \n",
            "117599  fffe18544ffabc95dfada21779c9644f              1   \n",
            "117600  fffe41c64501cc87c801fd61db3f6244              1   \n",
            "\n",
            "                              product_id                         seller_id  \\\n",
            "0       4244733e06e7ecb4970a6e2683c13e61  48436dade18ac8b2bce089ec2a041202   \n",
            "1       e5f2d52b802189ee658865ca93d83a8f  dd7ddc04e1b6c2c614352b383efe2d36   \n",
            "2       c777355d18b72b67abbeef9df44fd0fd  5b51032eddd242adc84c38acab88f23d   \n",
            "3       7634da152a4610f1595efa32f14722fc  9d7a1d34a5052409006425275ba1c2b4   \n",
            "4       ac6c3623068f30de03045865e4e10089  df560393f3a51e74553ab94004ba5c87   \n",
            "...                                  ...                               ...   \n",
            "117596  4aa6014eceb682077f9dc4bffebc05b0  b8bc237ba3788b23da09c0f1f3a3288c   \n",
            "117597  32e07fd915822b0765e448c4dd74c828  f3c38ab652836d21de61fb8314b69182   \n",
            "117598  72a30483855e2eafc67aee5dc2560482  c3cfdc648177fdbbbb35635a37472c53   \n",
            "117599  9c422a519119dcad7575db5af1ba540e  2b3e4a2a3ea8e01938cabda2a3e5cc79   \n",
            "117600  350688d9dc1e75ff97be326363655e01  f7ccf836d21b2fb1de37564105216cc1   \n",
            "\n",
            "        shipping_limit_date   price  freight_value  payment_sequential  \\\n",
            "0       2017-09-19 09:45:35   58.90          13.29                   1   \n",
            "1       2017-05-03 11:05:13  239.90          19.93                   1   \n",
            "2       2018-01-18 14:48:30  199.00          17.87                   1   \n",
            "3       2018-08-15 10:10:18   12.99          12.79                   1   \n",
            "4       2017-02-13 13:57:51  199.90          18.14                   1   \n",
            "...                     ...     ...            ...                 ...   \n",
            "117596  2018-05-02 04:11:01  299.99          43.41                   1   \n",
            "117597  2018-07-20 04:31:48  350.00          36.53                   1   \n",
            "117598  2017-10-30 17:14:25   99.90          16.95                   1   \n",
            "117599  2017-08-21 00:04:32   55.99           8.72                   1   \n",
            "117600  2018-06-12 17:10:13   43.00          12.79                   1   \n",
            "\n",
            "        payment_type  payment_installments  ...  order_status_y  \\\n",
            "0                  1                     2  ...       delivered   \n",
            "1                  1                     3  ...       delivered   \n",
            "2                  1                     5  ...       delivered   \n",
            "3                  1                     2  ...       delivered   \n",
            "4                  1                     3  ...       delivered   \n",
            "...              ...                   ...  ...             ...   \n",
            "117596             0                     1  ...       delivered   \n",
            "117597             0                     1  ...       delivered   \n",
            "117598             1                     3  ...       delivered   \n",
            "117599             1                     3  ...       delivered   \n",
            "117600             1                     1  ...       delivered   \n",
            "\n",
            "       order_purchase_timestamp_y order_approved_at_y  \\\n",
            "0             2017-09-13 08:59:02 2017-09-13 09:45:35   \n",
            "1             2017-04-26 10:53:06 2017-04-26 11:05:13   \n",
            "2             2018-01-14 14:33:31 2018-01-14 14:48:30   \n",
            "3             2018-08-08 10:00:35 2018-08-08 10:10:18   \n",
            "4             2017-02-04 13:57:51 2017-02-04 14:10:13   \n",
            "...                           ...                 ...   \n",
            "117596        2018-04-23 13:57:06 2018-04-25 04:11:01   \n",
            "117597        2018-07-14 10:26:46 2018-07-17 04:31:48   \n",
            "117598        2017-10-23 17:07:56 2017-10-24 17:14:25   \n",
            "117599        2017-08-14 23:02:59 2017-08-15 00:04:32   \n",
            "117600        2018-06-09 17:00:18 2018-06-09 17:10:13   \n",
            "\n",
            "       order_delivered_carrier_date_y order_delivered_customer_date_y  \\\n",
            "0                 2017-09-19 18:34:16             2017-09-20 23:43:48   \n",
            "1                 2017-05-04 14:35:00             2017-05-12 16:04:24   \n",
            "2                 2018-01-16 12:36:48             2018-01-22 13:19:16   \n",
            "3                 2018-08-10 13:28:00             2018-08-14 13:32:39   \n",
            "4                 2017-02-16 09:46:09             2017-03-01 16:42:31   \n",
            "...                               ...                             ...   \n",
            "117596            2018-04-25 12:09:00             2018-05-10 22:56:40   \n",
            "117597            2018-07-17 08:05:00             2018-07-23 20:31:55   \n",
            "117598            2017-10-26 15:13:14             2017-10-28 12:22:22   \n",
            "117599            2017-08-15 19:02:53             2017-08-16 21:59:40   \n",
            "117600            2018-06-11 14:11:00             2018-06-14 17:56:26   \n",
            "\n",
            "       order_estimated_delivery_date_y   shiping_time_y total_order_amount  \\\n",
            "0                           2017-09-29  7 days 13:58:13              58.90   \n",
            "1                           2017-05-15 16 days 04:59:11             252.78   \n",
            "2                           2018-02-05  7 days 22:30:46             199.00   \n",
            "3                           2018-08-20  6 days 03:22:21              12.99   \n",
            "4                           2017-03-17 25 days 02:32:18             199.90   \n",
            "...                                ...              ...                ...   \n",
            "117596                      2018-05-18 15 days 18:45:39             299.99   \n",
            "117597                      2018-08-01  6 days 16:00:07             350.00   \n",
            "117598                      2017-11-10  3 days 19:07:57              99.90   \n",
            "117599                      2017-08-25  1 days 21:55:08              55.99   \n",
            "117600                      2018-06-28  5 days 00:46:13              43.00   \n",
            "\n",
            "       order_count     AOV  \n",
            "0                1   58.90  \n",
            "1                2  126.39  \n",
            "2                1  199.00  \n",
            "3                1   12.99  \n",
            "4                1  199.90  \n",
            "...            ...     ...  \n",
            "117596           1  299.99  \n",
            "117597           1  350.00  \n",
            "117598           1   99.90  \n",
            "117599           1   55.99  \n",
            "117600           1   43.00  \n",
            "\n",
            "[117601 rows x 46 columns]\n"
          ]
        }
      ]
    },
    {
      "cell_type": "markdown",
      "source": [
        "##2.PF"
      ],
      "metadata": {
        "id": "yaad3MEtXSVR"
      }
    },
    {
      "cell_type": "code",
      "source": [
        "#PF\n",
        "df_PF_1 = pd.merge(df_olist_customers_dataset,df_olist_orders_dataset, left_on = 'customer_id', right_on = 'customer_id')\n",
        "#print(df_PF.head())\n",
        "\n",
        "df_PF = df_PF_1.groupby('customer_unique_id').agg(\n",
        "    PF=('order_id', 'count')\n",
        ").reset_index()\n",
        "print(df_PF.head())"
      ],
      "metadata": {
        "colab": {
          "base_uri": "https://localhost:8080/"
        },
        "collapsed": true,
        "id": "6yFUPWu5UEmL",
        "outputId": "0a284385-f437-447d-f5bb-de2ee82b85b9"
      },
      "execution_count": 51,
      "outputs": [
        {
          "output_type": "stream",
          "name": "stdout",
          "text": [
            "                 customer_unique_id  PF\n",
            "0  0000366f3b9a7992bf8c76cfdf3221e2   1\n",
            "1  0000b849f77a49e4a4ce2b2a4ca5be3f   1\n",
            "2  0000f46a3911fa3c0805444483337064   1\n",
            "3  0000f6ccb0745a6a4b88665a16c9f078   1\n",
            "4  0004aac84e0df4da2b147fca70cf8255   1\n"
          ]
        }
      ]
    },
    {
      "cell_type": "markdown",
      "source": [
        "## 3.Lifespan"
      ],
      "metadata": {
        "id": "4vyXoMWiYhqu"
      }
    },
    {
      "cell_type": "code",
      "source": [
        "#Step1: data preperation\n",
        "df_LS = df_PF_1.groupby('customer_unique_id').agg(\n",
        "    first_purchase=('order_purchase_timestamp', 'min'),\n",
        "    last_purchase=('order_purchase_timestamp', 'max')\n",
        ").reset_index()\n",
        "\n",
        "\n",
        "# Step 3: Calculate Customer Lifespan in Days (Minimum 1 Day)\n",
        "df_LS['Customer_Lifespan'] = (df_LS['last_purchase'] - df_LS['first_purchase']).dt.days\n",
        "df_LS['Customer_Lifespan'] = df_LS['Customer_Lifespan'].apply(lambda x: x if x > 0 else 1)\n",
        "\n",
        "# Step 4: Display the Customer Lifespan\n",
        "print(df_LS.head())"
      ],
      "metadata": {
        "colab": {
          "base_uri": "https://localhost:8080/"
        },
        "id": "n1psQHrPVf8t",
        "outputId": "7dadda0e-6369-44b9-9422-0b1d17c56504"
      },
      "execution_count": 52,
      "outputs": [
        {
          "output_type": "stream",
          "name": "stdout",
          "text": [
            "                 customer_unique_id      first_purchase       last_purchase  \\\n",
            "0  0000366f3b9a7992bf8c76cfdf3221e2 2018-05-10 10:56:27 2018-05-10 10:56:27   \n",
            "1  0000b849f77a49e4a4ce2b2a4ca5be3f 2018-05-07 11:11:27 2018-05-07 11:11:27   \n",
            "2  0000f46a3911fa3c0805444483337064 2017-03-10 21:05:03 2017-03-10 21:05:03   \n",
            "3  0000f6ccb0745a6a4b88665a16c9f078 2017-10-12 20:29:41 2017-10-12 20:29:41   \n",
            "4  0004aac84e0df4da2b147fca70cf8255 2017-11-14 19:45:42 2017-11-14 19:45:42   \n",
            "\n",
            "   Customer_Lifespan  \n",
            "0                  1  \n",
            "1                  1  \n",
            "2                  1  \n",
            "3                  1  \n",
            "4                  1  \n"
          ]
        }
      ]
    },
    {
      "cell_type": "markdown",
      "source": [
        "## 4. CLV"
      ],
      "metadata": {
        "id": "48Pr5TWAeLx1"
      }
    },
    {
      "cell_type": "code",
      "source": [
        "# Merging three elements\n",
        "df_CLV_1 = pd.merge(df_AOV, df_PF, on='customer_unique_id')\n",
        "df_CLV = pd.merge(df_CLV_1, df_LS, on='customer_unique_id')\n",
        "\n",
        "# Delating other columns\n",
        "df_CLV.drop(columns=['total_order_amount','order_count', 'first_purchase', 'last_purchase'], inplace=True)\n",
        "print(df_CLV.head())"
      ],
      "metadata": {
        "colab": {
          "base_uri": "https://localhost:8080/"
        },
        "id": "nuSSjaqiamUb",
        "outputId": "a056ce8b-22e1-4ec9-93c2-d1da7eb05dae"
      },
      "execution_count": 53,
      "outputs": [
        {
          "output_type": "stream",
          "name": "stdout",
          "text": [
            "                 customer_unique_id     AOV  PF  Customer_Lifespan\n",
            "0  0000366f3b9a7992bf8c76cfdf3221e2  129.90   1                  1\n",
            "1  0000b849f77a49e4a4ce2b2a4ca5be3f   18.90   1                  1\n",
            "2  0000f46a3911fa3c0805444483337064   69.00   1                  1\n",
            "3  0000f6ccb0745a6a4b88665a16c9f078   25.99   1                  1\n",
            "4  0004aac84e0df4da2b147fca70cf8255  180.00   1                  1\n"
          ]
        }
      ]
    },
    {
      "cell_type": "code",
      "source": [
        "CLV = df_CLV['AOV'] * df_CLV['PF'] * df_CLV['Customer_Lifespan']\n",
        "df_CLV['CLV'] = CLV\n",
        "print(df_CLV.head())"
      ],
      "metadata": {
        "colab": {
          "base_uri": "https://localhost:8080/"
        },
        "id": "FcuDzlmmcead",
        "outputId": "8cc16b34-fd28-48ad-933b-dc99dfed9740"
      },
      "execution_count": 54,
      "outputs": [
        {
          "output_type": "stream",
          "name": "stdout",
          "text": [
            "                 customer_unique_id     AOV  PF  Customer_Lifespan     CLV\n",
            "0  0000366f3b9a7992bf8c76cfdf3221e2  129.90   1                  1  129.90\n",
            "1  0000b849f77a49e4a4ce2b2a4ca5be3f   18.90   1                  1   18.90\n",
            "2  0000f46a3911fa3c0805444483337064   69.00   1                  1   69.00\n",
            "3  0000f6ccb0745a6a4b88665a16c9f078   25.99   1                  1   25.99\n",
            "4  0004aac84e0df4da2b147fca70cf8255  180.00   1                  1  180.00\n"
          ]
        }
      ]
    },
    {
      "cell_type": "code",
      "source": [],
      "metadata": {
        "id": "5MPz_2TMeDbl"
      },
      "execution_count": null,
      "outputs": []
    }
  ]
}